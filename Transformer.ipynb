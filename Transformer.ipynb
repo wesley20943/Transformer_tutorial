{
 "cells": [
  {
   "cell_type": "markdown",
   "metadata": {},
   "source": [
    "## Some Review!!\n",
    "\n",
    "1. Self-Attention Layer Advantage: parallel computation\n",
    "2. query, key, value interactions\n",
    "3. Positional Encoding\n",
    "4. Decoder has some properties just like RNN"
   ]
  },
  {
   "cell_type": "markdown",
   "metadata": {},
   "source": [
    "#### [References](https://leemeng.tw/neural-machine-translation-with-transformer-and-tensorflow2.html)"
   ]
  },
  {
   "cell_type": "markdown",
   "metadata": {},
   "source": [
    "## Prepare Dataset"
   ]
  },
  {
   "cell_type": "code",
   "execution_count": 103,
   "metadata": {},
   "outputs": [],
   "source": [
    "## package used\n",
    "import os\n",
    "import time\n",
    "import numpy as np\n",
    "import matplotlib as mpl\n",
    "import matplotlib.pyplot as plt\n",
    "from pprint import pprint ## print beautifully\n",
    " \n",
    "import tensorflow as tf\n",
    "import tensorflow_datasets as tfds"
   ]
  },
  {
   "cell_type": "code",
   "execution_count": 104,
   "metadata": {},
   "outputs": [],
   "source": [
    "## !pip install tensorflow-gpu == 2.0.0-beta0"
   ]
  },
  {
   "cell_type": "code",
   "execution_count": 105,
   "metadata": {},
   "outputs": [],
   "source": [
    "## make tensorflow not that annoying\n",
    "import logging\n",
    "logging.basicConfig(level = 40)\n",
    "\n",
    "## make numpy show numbers that are more intuitive\n",
    "np.set_printoptions(suppress = True)"
   ]
  },
  {
   "cell_type": "code",
   "execution_count": null,
   "metadata": {},
   "outputs": [],
   "source": []
  },
  {
   "cell_type": "code",
   "execution_count": 106,
   "metadata": {},
   "outputs": [],
   "source": [
    "output_dir = \"Trans\"\n",
    "if output_dir not in os.listdir():\n",
    "    os.makedirs(output_dir) ## make the dir\n",
    "\n",
    "## define path that we are going to store\n",
    "\n",
    "en_vocab_file = os.path.join(output_dir, \"en_vocab\")\n",
    "zh_vocab_file = os.path.join(output_dir, \"zh_vocab\")\n",
    "checkpoint_path = os.path.join(output_dir, \"checkpoints\")\n",
    "log_dir = os.path.join(output_dir, 'logs')\n",
    "download_dir = \"tensorflow-datasets/downloads\""
   ]
  },
  {
   "cell_type": "code",
   "execution_count": 107,
   "metadata": {},
   "outputs": [
    {
     "name": "stdout",
     "output_type": "stream",
     "text": [
      "{Split('train'): ['newscommentary_v14',\n",
      "                  'wikititles_v1',\n",
      "                  'uncorpus_v1',\n",
      "                  'casia2015',\n",
      "                  'casict2011',\n",
      "                  'casict2015',\n",
      "                  'datum2015',\n",
      "                  'datum2017',\n",
      "                  'neu2017'],\n",
      " Split('validation'): ['newstest2018']}\n"
     ]
    }
   ],
   "source": [
    "tmp_builder = tfds.builder(\"wmt19_translate/zh-en\")\n",
    "pprint(tmp_builder.subsets) ## dataset avaliable for zh_en"
   ]
  },
  {
   "cell_type": "markdown",
   "metadata": {},
   "source": [
    "#### [TFDS_API](https://www.tensorflow.org/datasets/catalog/overview#translate)\n"
   ]
  },
  {
   "cell_type": "code",
   "execution_count": 108,
   "metadata": {
    "scrolled": true
   },
   "outputs": [
    {
     "name": "stderr",
     "output_type": "stream",
     "text": [
      "WARNING:absl:Using custom data configuration zh-en\n"
     ]
    }
   ],
   "source": [
    "config = tfds.translate.wmt.WmtConfig(\n",
    "            version=tfds.core.Version(\"1.0.0\"),\n",
    "            language_pair=(\"zh\", \"en\"),\n",
    "            subsets={\n",
    "                tfds.Split.TRAIN: [\"newscommentary_v14\"]\n",
    "            }\n",
    "        )\n",
    "builder = tfds.builder(\"wmt_translate\", config=config)\n",
    "builder.download_and_prepare(download_dir=download_dir)\n",
    "\n",
    "## ther so miuch warning are actually helping us get rid of abnormal format of data"
   ]
  },
  {
   "cell_type": "code",
   "execution_count": 109,
   "metadata": {},
   "outputs": [],
   "source": [
    "## data are too big, just use a few of them\n",
    "split = ['train[:20%]', 'train[20%:21%]']\n",
    "train_examples, val_examples = builder.as_dataset(split=split, as_supervised=True)"
   ]
  },
  {
   "cell_type": "code",
   "execution_count": 110,
   "metadata": {},
   "outputs": [
    {
     "name": "stdout",
     "output_type": "stream",
     "text": [
      "tf.Tensor(b'The fear is real and visceral, and politicians ignore it at their peril.', shape=(), dtype=string)\n",
      "\n",
      "tf.Tensor(b'\\xe8\\xbf\\x99\\xe7\\xa7\\x8d\\xe6\\x81\\x90\\xe6\\x83\\xa7\\xe6\\x98\\xaf\\xe7\\x9c\\x9f\\xe5\\xae\\x9e\\xe8\\x80\\x8c\\xe5\\x86\\x85\\xe5\\x9c\\xa8\\xe7\\x9a\\x84\\xe3\\x80\\x82 \\xe5\\xbf\\xbd\\xe8\\xa7\\x86\\xe5\\xae\\x83\\xe7\\x9a\\x84\\xe6\\x94\\xbf\\xe6\\xb2\\xbb\\xe5\\xae\\xb6\\xe4\\xbb\\xac\\xe5\\x89\\x8d\\xe9\\x80\\x94\\xe5\\xa0\\xaa\\xe5\\xbf\\xa7\\xe3\\x80\\x82', shape=(), dtype=string)\n",
      "\n"
     ]
    }
   ],
   "source": [
    "## take a peak of it\n",
    "for en, zh in train_examples.take(1):\n",
    "    print(en)\n",
    "    print()\n",
    "    print(zh)\n",
    "    print()"
   ]
  },
  {
   "cell_type": "code",
   "execution_count": 111,
   "metadata": {},
   "outputs": [
    {
     "name": "stdout",
     "output_type": "stream",
     "text": [
      "The fear is real and visceral, and politicians ignore it at their peril.\n",
      "这种恐惧是真实而内在的。 忽视它的政治家们前途堪忧。\n",
      "\n",
      "In fact, the German political landscape needs nothing more than a truly liberal party, in the US sense of the word “liberal” – a champion of the cause of individual freedom.\n",
      "事实上，德国政治局势需要的不过是一个符合美国所谓“自由”定义的真正的自由党派，也就是个人自由事业的倡导者。\n",
      "\n",
      "Shifting to renewable-energy sources will require enormous effort and major infrastructure investment.\n",
      "必须付出巨大的努力和基础设施投资才能完成向可再生能源的过渡。\n",
      "\n"
     ]
    }
   ],
   "source": [
    "## what the f*ck is that? That us decode it out\n",
    "\n",
    "sample = []\n",
    "num_sample = 1\n",
    "\n",
    "for en, zh in train_examples.take(3):\n",
    "    en = en.numpy().decode(\"utf-8\")\n",
    "    zh = zh.numpy().decode(\"utf-8\")\n",
    "    \n",
    "    print(en)\n",
    "    print(zh)\n",
    "    print()"
   ]
  },
  {
   "cell_type": "code",
   "execution_count": 112,
   "metadata": {},
   "outputs": [],
   "source": [
    "## create bag of words index dict\n",
    "\n",
    "## use the wordpieces model (GNMT)\n",
    "try:\n",
    "    ## next time we will just read the \"bags\"\n",
    "    subword_encoder_en = tfds.deprecated.text.SubwordTextEncoder.load_from_file(en_vocab_file)\n",
    "except:\n",
    "\n",
    "    subword_encoder_en = tfds.deprecated.text.SubwordTextEncoder.build_from_corpus(\n",
    "          (en.numpy() for en, _ in train_examples), target_vocab_size=2**13)\n",
    "\n",
    "    # save ur result for next used\n",
    "    subword_encoder_en.save_to_file(en_vocab_file)\n",
    "\n",
    "    print(f\"size of bags：{subword_encoder_en.vocab_size}\")\n",
    "    print(f\"examples：{subword_encoder_en.subwords[:10]}\")\n",
    "\n"
   ]
  },
  {
   "cell_type": "code",
   "execution_count": 113,
   "metadata": {},
   "outputs": [
    {
     "name": "stdout",
     "output_type": "stream",
     "text": [
      "[125, 1558, 8, 1166, 7960]\n"
     ]
    }
   ],
   "source": [
    "## try it?\n",
    "sample_sentence = \"I am a pig\"\n",
    "indices = subword_encoder_en.encode(sample_sentence)\n",
    "\n",
    "print(indices)"
   ]
  },
  {
   "cell_type": "code",
   "execution_count": 114,
   "metadata": {},
   "outputs": [
    {
     "name": "stdout",
     "output_type": "stream",
     "text": [
      "['I ', 'am ', 'a ', 'pi', 'g']\n"
     ]
    }
   ],
   "source": [
    "## back?\n",
    "\n",
    "sample_sentence = []\n",
    "for idx in indices:\n",
    "    subwords = subword_encoder_en.decode([idx])\n",
    "    sample_sentence.append(subwords)\n",
    "    \n",
    "print(sample_sentence)\n",
    "\n",
    "## words that never appear in the corpus will be deconstructed\n",
    "## this kind of word to poeces method are more flexible while facing unseen words\n",
    "\n",
    "## decode and encode just works like an 1-1 function"
   ]
  },
  {
   "cell_type": "code",
   "execution_count": 115,
   "metadata": {},
   "outputs": [],
   "source": [
    "## time for zh\n",
    "\n",
    "try:\n",
    "    ## next time we will just read the \"bags\"\n",
    "    subword_encoder_zh = tfds.deprecated.text.SubwordTextEncoder.load_from_file(zh_vocab_file)\n",
    "except:\n",
    "\n",
    "\n",
    "    subword_encoder_zh = tfds.deprecated.text.SubwordTextEncoder.build_from_corpus(\n",
    "          (zh.numpy() for _, zh in train_examples), target_vocab_size=2**13,\n",
    "            max_subword_length = 1 ## zh doesnot have more than one subword\n",
    "    )\n",
    "\n",
    "    # save ur result for next used\n",
    "    subword_encoder_zh.save_to_file(zh_vocab_file)\n",
    "\n",
    "    print(f\"size of bags：{subword_encoder_zh.vocab_size}\")\n",
    "    print(f\"examples：{subword_encoder_zh.subwords[:10]}\")"
   ]
  },
  {
   "cell_type": "code",
   "execution_count": 116,
   "metadata": {},
   "outputs": [
    {
     "name": "stdout",
     "output_type": "stream",
     "text": [
      "[65, 6, 7, 223, 2078]\n",
      "['我', '是', '一', '只', '猪']\n"
     ]
    }
   ],
   "source": [
    "## 這句話沒辦法翻譯我打中文\n",
    "## 可悲沒有繁體字\n",
    "\n",
    "## similarly, we sample to check 1-1 propeties\n",
    "\n",
    "sample_sentence = \"我是一只猪\"\n",
    "indices = subword_encoder_zh.encode(sample_sentence)\n",
    "print(indices)\n",
    "\n",
    "sample_sentence = []\n",
    "for idx in indices:\n",
    "    subwords = subword_encoder_zh.decode([idx])\n",
    "    sample_sentence.append(subwords)\n",
    "    \n",
    "print(sample_sentence)"
   ]
  },
  {
   "cell_type": "code",
   "execution_count": 117,
   "metadata": {},
   "outputs": [
    {
     "name": "stdout",
     "output_type": "stream",
     "text": [
      "Before:\n",
      "I am a pig\n",
      "我是一只猪\n",
      "\n",
      "After:\n",
      "[125, 1558, 8, 1166, 7960]\n",
      "[65, 6, 7, 223, 2078]\n"
     ]
    }
   ],
   "source": [
    "## concate above, we now have\n",
    "sample_sent_en = \"I am a pig\"\n",
    "sample_sent_zh = \"我是一只猪\"\n",
    "\n",
    "indice_en = subword_encoder_en.encode(sample_sent_en)\n",
    "indice_zh = subword_encoder_zh.encode(sample_sent_zh)\n",
    "\n",
    "print(\"Before:\")\n",
    "print(sample_sent_en)\n",
    "print(sample_sent_zh)\n",
    "print()\n",
    "print(\"After:\")\n",
    "print(indice_en)\n",
    "print(indice_zh)\n"
   ]
  },
  {
   "cell_type": "code",
   "execution_count": 118,
   "metadata": {},
   "outputs": [],
   "source": [
    "## adding token representing the start and end, <BOS> and <EOS>\n",
    "\n",
    "## input -> two string temsor\n",
    "## output -> two indices with BOS,EOS\n",
    "def encode(en_t, zh_t):\n",
    "    en_indices = [subword_encoder_en.vocab_size] + subword_encoder_en.encode(\n",
    "    en_t.numpy()) + [subword_encoder_en.vocab_size + 1]\n",
    "    \n",
    "    zh_indices = [subword_encoder_zh.vocab_size] + subword_encoder_zh.encode(\n",
    "    zh_t.numpy()) + [subword_encoder_zh.vocab_size + 1]\n",
    "    \n",
    "    return en_indices, zh_indices\n"
   ]
  },
  {
   "cell_type": "code",
   "execution_count": 119,
   "metadata": {},
   "outputs": [
    {
     "name": "stdout",
     "output_type": "stream",
     "text": [
      "en BOS index： 8113\n",
      "en EOS index： 8114\n",
      "zh BOS index： 4205\n",
      "zh EOS index： 4206\n",
      "\n",
      "b'The fear is real and visceral, and politicians ignore it at their peril.'\n",
      "b'\\xe8\\xbf\\x99\\xe7\\xa7\\x8d\\xe6\\x81\\x90\\xe6\\x83\\xa7\\xe6\\x98\\xaf\\xe7\\x9c\\x9f\\xe5\\xae\\x9e\\xe8\\x80\\x8c\\xe5\\x86\\x85\\xe5\\x9c\\xa8\\xe7\\x9a\\x84\\xe3\\x80\\x82 \\xe5\\xbf\\xbd\\xe8\\xa7\\x86\\xe5\\xae\\x83\\xe7\\x9a\\x84\\xe6\\x94\\xbf\\xe6\\xb2\\xbb\\xe5\\xae\\xb6\\xe4\\xbb\\xac\\xe5\\x89\\x8d\\xe9\\x80\\x94\\xe5\\xa0\\xaa\\xe5\\xbf\\xa7\\xe3\\x80\\x82'\n",
      "\n",
      "[8113, 16, 1284, 9, 243, 5, 1275, 1756, 156, 1, 5, 1016, 5566, 21, 38, 33, 2982, 7965, 7903, 8114]\n",
      "[4205, 10, 151, 574, 1298, 6, 374, 55, 29, 193, 5, 1, 3, 3981, 931, 431, 125, 1, 17, 124, 33, 20, 97, 1089, 1247, 861, 3, 4206]\n"
     ]
    }
   ],
   "source": [
    "en_t, zh_t = next(iter(train_examples))\n",
    "en_indices, zh_indices = encode(en_t, zh_t)\n",
    "\n",
    "print('en BOS index：', subword_encoder_en.vocab_size)\n",
    "print('en EOS index：', subword_encoder_en.vocab_size + 1)\n",
    "print('zh BOS index：', subword_encoder_zh.vocab_size)\n",
    "print('zh EOS index：', subword_encoder_zh.vocab_size + 1)\n",
    "print()\n",
    "print(en_t.numpy())\n",
    "print(zh_t.numpy())\n",
    "print()\n",
    "print(en_indices)\n",
    "print(zh_indices)"
   ]
  },
  {
   "cell_type": "code",
   "execution_count": 120,
   "metadata": {},
   "outputs": [],
   "source": [
    "## but, we cannot use it directly to our dataset because tf functions are graph mode\n",
    "## does not have numpy\n",
    "\n",
    "## def new one for tf\n",
    "\n",
    "def tf_encode(en_t, zh_t):\n",
    "    return tf.py_function(encode, [en_t,zh_t], [tf.int64, tf.int64])"
   ]
  },
  {
   "cell_type": "code",
   "execution_count": 121,
   "metadata": {},
   "outputs": [
    {
     "name": "stdout",
     "output_type": "stream",
     "text": [
      "tf.Tensor(\n",
      "[8113   16 1284    9  243    5 1275 1756  156    1    5 1016 5566   21\n",
      "   38   33 2982 7965 7903 8114], shape=(20,), dtype=int64)\n",
      "\n",
      "tf.Tensor(\n",
      "[4205   10  151  574 1298    6  374   55   29  193    5    1    3 3981\n",
      "  931  431  125    1   17  124   33   20   97 1089 1247  861    3 4206], shape=(28,), dtype=int64)\n"
     ]
    }
   ],
   "source": [
    "## what we done?\n",
    "tmp_dataset = train_examples.map(tf_encode)\n",
    "en_indices, zh_indices = next(iter(tmp_dataset))\n",
    "\n",
    "print(en_indices)\n",
    "print()\n",
    "print(zh_indices)\n",
    "\n",
    "## tmp outputs two indices"
   ]
  },
  {
   "cell_type": "code",
   "execution_count": 122,
   "metadata": {},
   "outputs": [],
   "source": [
    "## in order to speed up ! remove all sentence has 40 ups indices\n",
    "\n",
    "MAX_LENGTH = 40\n",
    "\n",
    "def filter_max_length(en, zh, max_length = MAX_LENGTH):\n",
    "    ## return TRUE, FALSE\n",
    "    return tf.logical_and(tf.size(en) <= max_length,tf.size(zh) <= max_length)\n",
    "\n",
    "## return TRUE values\n",
    "tmp_dataset = tmp_dataset.filter(filter_max_length)"
   ]
  },
  {
   "cell_type": "code",
   "execution_count": 123,
   "metadata": {},
   "outputs": [
    {
     "name": "stdout",
     "output_type": "stream",
     "text": [
      "we have 29784 data below 40 tokens\n"
     ]
    }
   ],
   "source": [
    "num_examples = 0\n",
    "\n",
    "## use for, but not recommanded\n",
    "for en_indices, zh_indices in tmp_dataset:\n",
    "    cond1  = len(en_indices) <= MAX_LENGTH\n",
    "    cond2 = len(zh_indices) <= MAX_LENGTH\n",
    "    \n",
    "    assert cond1 and cond2\n",
    "    num_examples += 1\n",
    "\n",
    "print(f\"we have {num_examples} data below {MAX_LENGTH} tokens\")"
   ]
  },
  {
   "cell_type": "code",
   "execution_count": 124,
   "metadata": {},
   "outputs": [
    {
     "name": "stdout",
     "output_type": "stream",
     "text": [
      "en indices batch\n",
      "tf.Tensor(\n",
      "[[8113   16 1284 ...    0    0    0]\n",
      " [8113 1894 1302 ...    0    0    0]\n",
      " [8113   44   40 ...    0    0    0]\n",
      " ...\n",
      " [8113  122  506 ...    0    0    0]\n",
      " [8113   16  215 ...    0    0    0]\n",
      " [8113 7443 7889 ...    0    0    0]], shape=(64, 39), dtype=int64)\n",
      "\n",
      "zh indicesbatch\n",
      "tf.Tensor(\n",
      "[[4205   10  151 ...    0    0    0]\n",
      " [4205  206  275 ...    0    0    0]\n",
      " [4205    5   10 ...    0    0    0]\n",
      " ...\n",
      " [4205   34    6 ...    0    0    0]\n",
      " [4205  317  256 ...    0    0    0]\n",
      " [4205  167  326 ...    0    0    0]], shape=(64, 40), dtype=int64)\n"
     ]
    }
   ],
   "source": [
    "## cuz our data has different length, building batch may occur some errors\n",
    "## padding as we do in image\n",
    "\n",
    "BATCH_SIZE = 64\n",
    "## padding to be the same length\n",
    "## padding as same length to the longest length\n",
    "tmp_dataset = tmp_dataset.padded_batch(BATCH_SIZE, padded_shapes=([-1], [-1]))\n",
    "en_batch, zh_batch = next(iter(tmp_dataset))\n",
    "print(\"en indices batch\")\n",
    "print(en_batch)\n",
    "print()\n",
    "print(\"zh indicesbatch\")\n",
    "print(zh_batch)"
   ]
  },
  {
   "cell_type": "code",
   "execution_count": 125,
   "metadata": {},
   "outputs": [],
   "source": [
    "## combine above all to create out train and valid\n",
    "MAX_LENGTH = 40\n",
    "BATCH_SIZE = 128\n",
    "BUFFER_SIZE = 15000\n",
    "\n",
    "train_dataset = (train_examples  \n",
    "                 .map(tf_encode) \n",
    "                 .filter(filter_max_length)\n",
    "                 .cache() # speed up reading \n",
    "                 .shuffle(BUFFER_SIZE) # break origin order\n",
    "                 .padded_batch(BATCH_SIZE, \n",
    "                               padded_shapes=([-1], [-1]))\n",
    "                 .prefetch(tf.data.experimental.AUTOTUNE)) # speed up\n",
    "\n",
    "val_dataset = (val_examples\n",
    "               .map(tf_encode)\n",
    "               .filter(filter_max_length)\n",
    "               .padded_batch(BATCH_SIZE, \n",
    "                             padded_shapes=([-1], [-1])))\n",
    "\n",
    "## cache and AUTOTUNE\n",
    "## https://www.tensorflow.org/guide/data_performance?hl=zh_cn\n"
   ]
  },
  {
   "cell_type": "code",
   "execution_count": 126,
   "metadata": {},
   "outputs": [
    {
     "name": "stdout",
     "output_type": "stream",
     "text": [
      "en indices batch\n",
      "tf.Tensor(\n",
      "[[8113   16 1547 ...    0    0    0]\n",
      " [8113   87    9 ...    0    0    0]\n",
      " [8113 1636   54 ...    0    0    0]\n",
      " ...\n",
      " [8113   87 5185 ...    0    0    0]\n",
      " [8113 7646 2120 ...    0    0    0]\n",
      " [8113  624    7 ...    0    0    0]], shape=(128, 39), dtype=int64)\n",
      "\n",
      "zh indices batch\n",
      "tf.Tensor(\n",
      "[[4205  201  160 ...    0    0    0]\n",
      " [4205   30    4 ...    0    0    0]\n",
      " [4205  286   12 ...    0    0    0]\n",
      " ...\n",
      " [4205   10  269 ...    0    0    0]\n",
      " [4205   34    6 ...    0    0    0]\n",
      " [4205    7   66 ...    0    0    0]], shape=(128, 40), dtype=int64)\n"
     ]
    }
   ],
   "source": [
    "## take a peak and inagime what's going on!\n",
    "\n",
    "en_batch, zh_batch = next(iter(train_dataset)) ##return in one batch\n",
    "print(\"en indices batch\")\n",
    "print(en_batch)\n",
    "print()\n",
    "print(\"zh indices batch\")\n",
    "print(zh_batch)"
   ]
  },
  {
   "cell_type": "markdown",
   "metadata": {},
   "source": [
    "## Prepare Model"
   ]
  },
  {
   "cell_type": "code",
   "execution_count": 127,
   "metadata": {},
   "outputs": [
    {
     "name": "stdout",
     "output_type": "stream",
     "text": [
      "[('I am a pig', '我是一只猪'), ('The numbers speak for themselves.', '数字证明了一切。')]\n"
     ]
    }
   ],
   "source": [
    "## To help us into tensorflow world\n",
    "## make some examples to track!\n",
    "\n",
    "demo_examples = [\n",
    "    (\"I am a pig\",\"我是一只猪\"),\n",
    "    (\"The numbers speak for themselves.\", \"数字证明了一切。\")    \n",
    "]\n",
    "\n",
    "print(demo_examples)"
   ]
  },
  {
   "cell_type": "code",
   "execution_count": 128,
   "metadata": {},
   "outputs": [],
   "source": [
    "batch_size = 2\n",
    "## make it to tensor\n",
    "demo_examples = tf.data.Dataset.from_tensor_slices((\n",
    "    [en for en, _ in demo_examples], [zh for _, zh in demo_examples]\n",
    "))"
   ]
  },
  {
   "cell_type": "code",
   "execution_count": 129,
   "metadata": {},
   "outputs": [
    {
     "name": "stdout",
     "output_type": "stream",
     "text": [
      "inp: tf.Tensor(\n",
      "[[8113  125 1558    8 1166 7960 8114    0]\n",
      " [8113   16 4111 6735   12 2750 7903 8114]], shape=(2, 8), dtype=int64)\n",
      "\n",
      "tar: tf.Tensor(\n",
      "[[4205   65    6    7  223 2078 4206    0    0    0]\n",
      " [4205  165  489  398  191   14    7  560    3 4206]], shape=(2, 10), dtype=int64)\n"
     ]
    }
   ],
   "source": [
    "## same as above procedure\n",
    "demo_dataset = demo_examples.map(tf_encode).padded_batch(batch_size, padded_shapes=([-1], [-1]))\n",
    "inp, tar = next(iter(demo_dataset))\n",
    "print('inp:', inp)\n",
    "print()\n",
    "print('tar:', tar)\n",
    "\n",
    "## shape = (batch_size, max_length)"
   ]
  },
  {
   "cell_type": "code",
   "execution_count": 130,
   "metadata": {
    "scrolled": true
   },
   "outputs": [
    {
     "data": {
      "text/plain": [
       "(<tf.Tensor: shape=(2, 8, 4), dtype=float32, numpy=\n",
       " array([[[-0.03639312, -0.02757695,  0.04359658, -0.03537921],\n",
       "         [ 0.01971773, -0.0400288 , -0.03068806,  0.00325962],\n",
       "         [ 0.02722507, -0.02708452,  0.03049209, -0.02288125],\n",
       "         [-0.03032577, -0.0354887 ,  0.03697484,  0.02999594],\n",
       "         [ 0.01879238,  0.02930457,  0.04095887, -0.04010413],\n",
       "         [ 0.03148792, -0.02128877, -0.02220495,  0.01309374],\n",
       "         [-0.00649624, -0.02425881, -0.04920071,  0.04663258],\n",
       "         [ 0.04220078,  0.02385452, -0.04670385,  0.04206574]],\n",
       " \n",
       "        [[-0.03639312, -0.02757695,  0.04359658, -0.03537921],\n",
       "         [-0.03799623,  0.00689935,  0.02657298, -0.04832831],\n",
       "         [ 0.019558  ,  0.00797454, -0.02867308,  0.01105939],\n",
       "         [ 0.02977253,  0.02150572, -0.02371547,  0.02535402],\n",
       "         [ 0.0018843 ,  0.0083848 , -0.01313395, -0.04100952],\n",
       "         [-0.03851343, -0.00084137,  0.00652003,  0.03005591],\n",
       "         [-0.0193126 , -0.02821339, -0.03997569, -0.0069155 ],\n",
       "         [-0.00649624, -0.02425881, -0.04920071,  0.04663258]]],\n",
       "       dtype=float32)>,\n",
       " <tf.Tensor: shape=(2, 10, 4), dtype=float32, numpy=\n",
       " array([[[-0.02570603, -0.0425355 ,  0.00116561, -0.04027306],\n",
       "         [-0.03712282,  0.00933958,  0.00916104,  0.01492542],\n",
       "         [-0.00481151,  0.00255662,  0.04010916,  0.04437927],\n",
       "         [ 0.03266637,  0.00223578,  0.01528454,  0.02182579],\n",
       "         [-0.0134742 , -0.02455674, -0.03205824,  0.03517307],\n",
       "         [-0.0286466 , -0.03366031, -0.02564389,  0.00422225],\n",
       "         [-0.03515984, -0.00892315, -0.0419554 , -0.04400741],\n",
       "         [ 0.04022003, -0.01787087,  0.00071216, -0.01416185],\n",
       "         [ 0.04022003, -0.01787087,  0.00071216, -0.01416185],\n",
       "         [ 0.04022003, -0.01787087,  0.00071216, -0.01416185]],\n",
       " \n",
       "        [[-0.02570603, -0.0425355 ,  0.00116561, -0.04027306],\n",
       "         [ 0.03513073, -0.04301738,  0.00929197,  0.02501892],\n",
       "         [ 0.0065163 ,  0.018814  ,  0.00966164,  0.00252904],\n",
       "         [-0.00698811,  0.04332395, -0.00371997, -0.03929681],\n",
       "         [ 0.01060241, -0.00249513,  0.04607243, -0.01014801],\n",
       "         [-0.02585864, -0.03934548,  0.02350101,  0.00471745],\n",
       "         [ 0.03266637,  0.00223578,  0.01528454,  0.02182579],\n",
       "         [ 0.00265933, -0.04623572, -0.04255412, -0.02477479],\n",
       "         [-0.01967419,  0.00610356,  0.01756929, -0.01711733],\n",
       "         [-0.03515984, -0.00892315, -0.0419554 , -0.04400741]]],\n",
       "       dtype=float32)>)"
      ]
     },
     "execution_count": 130,
     "metadata": {},
     "output_type": "execute_result"
    }
   ],
   "source": [
    "## First! do word embedding\n",
    "\n",
    "vocab_size_en = subword_encoder_en.vocab_size + 2 ## plus BOS, EOS\n",
    "vocab_size_zh = subword_encoder_zh.vocab_size + 2\n",
    "\n",
    "# to 4 dim\n",
    "## random vectors for before-training\n",
    "d_model = 4\n",
    "embedding_layer_en = tf.keras.layers.Embedding(vocab_size_en, d_model)\n",
    "embedding_layer_zh = tf.keras.layers.Embedding(vocab_size_zh, d_model)\n",
    "\n",
    "emb_inp = embedding_layer_en(inp)\n",
    "emb_tar = embedding_layer_zh(tar)\n",
    "emb_inp, emb_tar"
   ]
  },
  {
   "cell_type": "code",
   "execution_count": 131,
   "metadata": {},
   "outputs": [
    {
     "data": {
      "text/plain": [
       "<tf.Tensor: shape=(2, 1, 1, 8), dtype=float32, numpy=\n",
       "array([[[[0., 0., 0., 0., 0., 0., 0., 1.]]],\n",
       "\n",
       "\n",
       "       [[[0., 0., 0., 0., 0., 0., 0., 0.]]]], dtype=float32)>"
      ]
     },
     "execution_count": 131,
     "metadata": {},
     "output_type": "execute_result"
    }
   ],
   "source": [
    "## Masking\n",
    "## include two part\n",
    "## one is inside the decoder, another is for padding\n",
    "## mask the padding because it's meaningless\n",
    "\n",
    "def create_padding_mask(seq):\n",
    "    mask = tf.cast(tf.equal(seq, 0), tf.float32)\n",
    "    return mask[:, tf.newaxis, tf.newaxis, :] ## we will use it after, for broadcasting\n",
    "\n",
    "inp_mask = create_padding_mask(inp)\n",
    "inp_mask"
   ]
  },
  {
   "cell_type": "code",
   "execution_count": 132,
   "metadata": {},
   "outputs": [
    {
     "name": "stdout",
     "output_type": "stream",
     "text": [
      "inp: tf.Tensor(\n",
      "[[8113  125 1558    8 1166 7960 8114    0]\n",
      " [8113   16 4111 6735   12 2750 7903 8114]], shape=(2, 8), dtype=int64)\n",
      "\n",
      "tf.squeeze(inp_mask): tf.Tensor(\n",
      "[[0. 0. 0. 0. 0. 0. 0. 1.]\n",
      " [0. 0. 0. 0. 0. 0. 0. 0.]], shape=(2, 8), dtype=float32)\n"
     ]
    }
   ],
   "source": [
    "print(\"inp:\", inp)\n",
    "print()\n",
    "print(\"tf.squeeze(inp_mask):\", tf.squeeze(inp_mask))\n",
    "\n",
    "## we can just mask the 1 part"
   ]
  },
  {
   "cell_type": "markdown",
   "metadata": {},
   "source": [
    "\n",
    "<img src=\"scale_dot.png\" width=\"40%\">"
   ]
  },
  {
   "cell_type": "code",
   "execution_count": 133,
   "metadata": {},
   "outputs": [],
   "source": [
    "## scale dot attention\n",
    "\n",
    "def scaled_dot_product_attention(q, k, v, mask):\n",
    "  \n",
    "    matmul_qk = tf.matmul(q, k, transpose_b=True) ## matrix mutiplication\n",
    "    dk = tf.cast(tf.shape(k)[-1], tf.float32) ## len of seq\n",
    "    \n",
    "    scaled_attention_logits = matmul_qk / tf.math.sqrt(dk) \n",
    "    \n",
    "    ## masking\n",
    "    if mask is not None: ## which means has 1\n",
    "        scaled_attention_logits += (mask * -1e9) \n",
    "        ## paper denote as negative infinite\n",
    "        ## we just add a really big negative number\n",
    "\n",
    "    attention_weights = tf.nn.softmax(scaled_attention_logits, axis=-1)\n",
    "      \n",
    "    output = tf.matmul(attention_weights, v)\n",
    "\n",
    "    return output, attention_weights"
   ]
  },
  {
   "cell_type": "code",
   "execution_count": 134,
   "metadata": {},
   "outputs": [
    {
     "name": "stdout",
     "output_type": "stream",
     "text": [
      "tf.Tensor(\n",
      "[[0. 1. 1. 1. 1. 1. 1. 1. 1. 1.]\n",
      " [0. 0. 1. 1. 1. 1. 1. 1. 1. 1.]\n",
      " [0. 0. 0. 1. 1. 1. 1. 1. 1. 1.]\n",
      " [0. 0. 0. 0. 1. 1. 1. 1. 1. 1.]\n",
      " [0. 0. 0. 0. 0. 1. 1. 1. 1. 1.]\n",
      " [0. 0. 0. 0. 0. 0. 1. 1. 1. 1.]\n",
      " [0. 0. 0. 0. 0. 0. 0. 1. 1. 1.]\n",
      " [0. 0. 0. 0. 0. 0. 0. 0. 1. 1.]\n",
      " [0. 0. 0. 0. 0. 0. 0. 0. 0. 1.]\n",
      " [0. 0. 0. 0. 0. 0. 0. 0. 0. 0.]], shape=(10, 10), dtype=float32)\n"
     ]
    }
   ],
   "source": [
    "## decoder mask\n",
    "def create_look_ahead_mask(size):\n",
    "    mask = 1-tf.linalg.band_part(tf.ones((size, size)), -1, 0) ##Upper right triangle has value\n",
    "    return mask\n",
    "\n",
    "seq_len = emb_tar.shape[1]\n",
    "look_ahead_mask = create_look_ahead_mask(seq_len)\n",
    "\n",
    "print(look_ahead_mask)"
   ]
  },
  {
   "cell_type": "code",
   "execution_count": 135,
   "metadata": {
    "scrolled": true
   },
   "outputs": [
    {
     "name": "stdout",
     "output_type": "stream",
     "text": [
      "attention_weights: tf.Tensor(\n",
      "[[[1.         0.         0.         0.         0.         0.\n",
      "   0.         0.         0.         0.        ]\n",
      "  [0.4997743  0.50022566 0.         0.         0.         0.\n",
      "   0.         0.         0.         0.        ]\n",
      "  [0.3328728  0.3333655  0.3337617  0.         0.         0.\n",
      "   0.         0.         0.         0.        ]\n",
      "  [0.24975398 0.24988763 0.25015718 0.2502012  0.         0.\n",
      "   0.         0.         0.         0.        ]\n",
      "  [0.1999227  0.1999792  0.1999567  0.19990727 0.20023407 0.\n",
      "   0.         0.         0.         0.        ]\n",
      "  [0.16675764 0.16664171 0.16652788 0.16648448 0.16677557 0.16681276\n",
      "   0.         0.         0.         0.        ]\n",
      "  [0.14302464 0.14282268 0.14256084 0.14261211 0.14284477 0.14296679\n",
      "   0.14316817 0.         0.         0.        ]\n",
      "  [0.125028   0.12489291 0.12495697 0.12507041 0.12497041 0.12497012\n",
      "   0.12496808 0.12514313 0.         0.        ]\n",
      "  [0.11112186 0.1110018  0.11105873 0.11115956 0.11107069 0.11107042\n",
      "   0.11106861 0.11122418 0.11122418 0.        ]\n",
      "  [0.09999949 0.09989145 0.09994269 0.10003342 0.09995344 0.09995321\n",
      "   0.09995157 0.10009158 0.10009158 0.10009158]]\n",
      "\n",
      " [[1.         0.         0.         0.         0.         0.\n",
      "   0.         0.         0.         0.        ]\n",
      "  [0.49951664 0.5004834  0.         0.         0.         0.\n",
      "   0.         0.         0.         0.        ]\n",
      "  [0.3332119  0.33331707 0.333471   0.         0.         0.\n",
      "   0.         0.         0.         0.        ]\n",
      "  [0.24996088 0.24958098 0.25005078 0.2504073  0.         0.\n",
      "   0.         0.         0.         0.        ]\n",
      "  [0.19995396 0.19998977 0.19996852 0.1999289  0.20015885 0.\n",
      "   0.         0.         0.         0.        ]\n",
      "  [0.16678573 0.16669776 0.16654862 0.16645479 0.16667597 0.16683708\n",
      "   0.         0.         0.         0.        ]\n",
      "  [0.1427137  0.1429662  0.1428746  0.14276722 0.14290074 0.1428083\n",
      "   0.14296924 0.         0.         0.        ]\n",
      "  [0.12514567 0.12503438 0.12488484 0.1249121  0.1248699  0.12500727\n",
      "   0.12489225 0.12525353 0.         0.        ]\n",
      "  [0.11115278 0.11103198 0.11110595 0.11115574 0.11114185 0.11113304\n",
      "   0.11105889 0.11106312 0.11115667 0.        ]\n",
      "  [0.10012125 0.09985384 0.09992518 0.10005809 0.09987906 0.09997418\n",
      "   0.09983247 0.10013066 0.10000351 0.10022172]]], shape=(2, 10, 10), dtype=float32)\n"
     ]
    }
   ],
   "source": [
    "temp_q = temp_k = emb_tar\n",
    "\n",
    "temp_v = tf.cast(tf.math.greater(\n",
    "    tf.random.uniform(shape=emb_tar.shape), 0.5), tf.float32)\n",
    "\n",
    "_, attention_weights = scaled_dot_product_attention(\n",
    "    temp_q, temp_k, temp_v, look_ahead_mask)\n",
    "\n",
    "print(\"attention_weights:\", attention_weights)\n",
    "\n",
    "## print out! we can see that in a sentence, the word only attention words before\n",
    "## 我畫個方格圖讓大家了解！\n",
    "## row col 都是 我是一隻豬"
   ]
  },
  {
   "cell_type": "markdown",
   "metadata": {},
   "source": [
    "<img src=\"mutihead.png\" width=\"40%\">"
   ]
  },
  {
   "cell_type": "code",
   "execution_count": 136,
   "metadata": {},
   "outputs": [],
   "source": [
    "## multi-head attetion\n",
    "## just like considering different aspects, like grammar, syntax.....\n",
    "\n",
    "def split_heads(x, d_model, num_heads):\n",
    "    ## x.shape: (batch_size, seq_len, d_model)\n",
    "    batch_size = tf.shape(x)[0]\n",
    "  \n",
    "    assert d_model % num_heads == 0 ## ensure the division\n",
    "    depth = d_model // num_heads  ## dim of each head\n",
    "    \n",
    "    ## num_heads * depth = d_model, split the origin \n",
    "    reshaped_x = tf.reshape(x, shape=(batch_size, -1, num_heads, depth))\n",
    "    \n",
    "    ## change dim\n",
    "    ## (batch_size, num_heads, seq_len, depth)\n",
    "    output = tf.transpose(reshaped_x, perm=[0, 2, 1, 3])\n",
    "    return output"
   ]
  },
  {
   "cell_type": "code",
   "execution_count": 137,
   "metadata": {
    "scrolled": true
   },
   "outputs": [
    {
     "name": "stdout",
     "output_type": "stream",
     "text": [
      "output: tf.Tensor(\n",
      "[[[[-0.03639312 -0.02757695]\n",
      "   [ 0.01971773 -0.0400288 ]\n",
      "   [ 0.02722507 -0.02708452]\n",
      "   [-0.03032577 -0.0354887 ]\n",
      "   [ 0.01879238  0.02930457]\n",
      "   [ 0.03148792 -0.02128877]\n",
      "   [-0.00649624 -0.02425881]\n",
      "   [ 0.04220078  0.02385452]]\n",
      "\n",
      "  [[ 0.04359658 -0.03537921]\n",
      "   [-0.03068806  0.00325962]\n",
      "   [ 0.03049209 -0.02288125]\n",
      "   [ 0.03697484  0.02999594]\n",
      "   [ 0.04095887 -0.04010413]\n",
      "   [-0.02220495  0.01309374]\n",
      "   [-0.04920071  0.04663258]\n",
      "   [-0.04670385  0.04206574]]]\n",
      "\n",
      "\n",
      " [[[-0.03639312 -0.02757695]\n",
      "   [-0.03799623  0.00689935]\n",
      "   [ 0.019558    0.00797454]\n",
      "   [ 0.02977253  0.02150572]\n",
      "   [ 0.0018843   0.0083848 ]\n",
      "   [-0.03851343 -0.00084137]\n",
      "   [-0.0193126  -0.02821339]\n",
      "   [-0.00649624 -0.02425881]]\n",
      "\n",
      "  [[ 0.04359658 -0.03537921]\n",
      "   [ 0.02657298 -0.04832831]\n",
      "   [-0.02867308  0.01105939]\n",
      "   [-0.02371547  0.02535402]\n",
      "   [-0.01313395 -0.04100952]\n",
      "   [ 0.00652003  0.03005591]\n",
      "   [-0.03997569 -0.0069155 ]\n",
      "   [-0.04920071  0.04663258]]]], shape=(2, 2, 8, 2), dtype=float32)\n"
     ]
    }
   ],
   "source": [
    "## take a peak!\n",
    "d_model = 4\n",
    "num_heads = 2\n",
    "x = emb_inp\n",
    "\n",
    "output = split_heads(x, d_model, num_heads)  \n",
    "print(\"output:\", output)"
   ]
  },
  {
   "cell_type": "code",
   "execution_count": 138,
   "metadata": {},
   "outputs": [],
   "source": [
    "class MultiHeadAttention(tf.keras.layers.Layer):\n",
    "    ## some variables we r going to use\n",
    "    def __init__(self, d_model, num_heads):\n",
    "        super(MultiHeadAttention, self).__init__()\n",
    "        self.num_heads = num_heads \n",
    "        self.d_model = d_model\n",
    "    \n",
    "        assert d_model % self.num_heads == 0 \n",
    "    \n",
    "        self.depth = d_model // self.num_heads \n",
    "    \n",
    "        ## the linear transformation for qkv\n",
    "        self.wq = tf.keras.layers.Dense(d_model)  \n",
    "        self.wk = tf.keras.layers.Dense(d_model)  \n",
    "        self.wv = tf.keras.layers.Dense(d_model)\n",
    "        self.dense = tf.keras.layers.Dense(d_model) \n",
    "  \n",
    "\n",
    "    def split_heads(self, x, batch_size):\n",
    "        x = tf.reshape(x, (batch_size, -1, self.num_heads, self.depth))\n",
    "        return tf.transpose(x, perm=[0, 2, 1, 3])\n",
    "  \n",
    "  \n",
    "    def call(self, v, k, q, mask):\n",
    "        batch_size = tf.shape(q)[0]\n",
    "        q = self.wq(q)  \n",
    "        k = self.wk(k) \n",
    "        v = self.wv(v)  \n",
    "\n",
    "        q = self.split_heads(q, batch_size)  \n",
    "        k = self.split_heads(k, batch_size)  \n",
    "        v = self.split_heads(v, batch_size)  \n",
    "        scaled_attention, attention_weights = scaled_dot_product_attention(q, k, v, mask)\n",
    "        scaled_attention = tf.transpose(scaled_attention, perm=[0, 2, 1, 3])\n",
    "        \n",
    "        ## concat, combining the heads\n",
    "        concat_attention = tf.reshape(scaled_attention, (batch_size, -1, self.d_model)) \n",
    "        output = self.dense(concat_attention)\n",
    "        \n",
    "        return output, attention_weights"
   ]
  },
  {
   "cell_type": "markdown",
   "metadata": {},
   "source": [
    "<img src=\"model_all.png\" width=\"40%\">"
   ]
  },
  {
   "cell_type": "code",
   "execution_count": 139,
   "metadata": {},
   "outputs": [],
   "source": [
    "## feed forward network\n",
    "def point_wise_feed_forward_network(d_model, dff):\n",
    "    \n",
    "    return tf.keras.Sequential([\n",
    "        tf.keras.layers.Dense(dff, activation='relu'),\n",
    "        tf.keras.layers.Dense(d_model) \n",
    "    ])"
   ]
  },
  {
   "cell_type": "code",
   "execution_count": 140,
   "metadata": {},
   "outputs": [],
   "source": [
    "## Encoder layer\n",
    "class EncoderLayer(tf.keras.layers.Layer):\n",
    "  ## dropout rate = 0.1\n",
    "    def __init__(self, d_model, num_heads, dff, rate=0.1):\n",
    "        super(EncoderLayer, self).__init__()\n",
    "        self.mha = MultiHeadAttention(d_model, num_heads)\n",
    "        self.ffn = point_wise_feed_forward_network(d_model, dff)\n",
    "\n",
    "        self.layernorm1 = tf.keras.layers.LayerNormalization(epsilon=1e-6)\n",
    "        self.layernorm2 = tf.keras.layers.LayerNormalization(epsilon=1e-6)\n",
    "        self.dropout1 = tf.keras.layers.Dropout(rate)\n",
    "        self.dropout2 = tf.keras.layers.Dropout(rate)\n",
    "    \n",
    "    def call(self, x, training, mask):\n",
    "        attn_output, attn = self.mha(x, x, x, mask)  \n",
    "        attn_output = self.dropout1(attn_output, training=training) \n",
    "        out1 = self.layernorm1(x + attn_output)  \n",
    "\n",
    "        ffn_output = self.ffn(out1) \n",
    "        ffn_output = self.dropout2(ffn_output, training=training)  # 記得 training\n",
    "        out2 = self.layernorm2(out1 + ffn_output)\n",
    "    \n",
    "        return out2"
   ]
  },
  {
   "cell_type": "code",
   "execution_count": 141,
   "metadata": {},
   "outputs": [],
   "source": [
    "## Decoder\n",
    "class DecoderLayer(tf.keras.layers.Layer):\n",
    "    def __init__(self, d_model, num_heads, dff, rate=0.1):\n",
    "        super(DecoderLayer, self).__init__()\n",
    "\n",
    "\n",
    "        self.mha1 = MultiHeadAttention(d_model, num_heads)\n",
    "        self.mha2 = MultiHeadAttention(d_model, num_heads)\n",
    "        self.ffn = point_wise_feed_forward_network(d_model, dff)\n",
    "\n",
    "        self.layernorm1 = tf.keras.layers.LayerNormalization(epsilon=1e-6)\n",
    "        self.layernorm2 = tf.keras.layers.LayerNormalization(epsilon=1e-6)\n",
    "        self.layernorm3 = tf.keras.layers.LayerNormalization(epsilon=1e-6)\n",
    "\n",
    "        self.dropout1 = tf.keras.layers.Dropout(rate)\n",
    "        self.dropout2 = tf.keras.layers.Dropout(rate)\n",
    "        self.dropout3 = tf.keras.layers.Dropout(rate)\n",
    "    \n",
    "    ## two types of mask are used\n",
    "    def call(self, x, enc_output, training, combined_mask, inp_padding_mask):\n",
    "\n",
    "        attn1, attn_weights_block1 = self.mha1(x, x, x, combined_mask)\n",
    "        attn1 = self.dropout1(attn1, training=training)\n",
    "        out1 = self.layernorm1(attn1 + x)\n",
    "\n",
    "        attn2, attn_weights_block2 = self.mha2(enc_output, enc_output, out1, inp_padding_mask)\n",
    "        attn2 = self.dropout2(attn2, training=training)\n",
    "        out2 = self.layernorm2(attn2 + out1)\n",
    "    \n",
    "        ffn_output = self.ffn(out2)\n",
    "\n",
    "        ffn_output = self.dropout3(ffn_output, training=training)\n",
    "        out3 = self.layernorm3(ffn_output + out2) \n",
    "\n",
    "        return out3, attn_weights_block1, attn_weights_block2\n",
    "    ## ouput multihead weitgh for guther analization"
   ]
  },
  {
   "cell_type": "markdown",
   "metadata": {},
   "source": [
    "<img src=\"position.png\" width=\"70%\">"
   ]
  },
  {
   "cell_type": "code",
   "execution_count": 142,
   "metadata": {},
   "outputs": [],
   "source": [
    "## position encoding\n",
    "def get_angles(pos, i, d_model):\n",
    "    angle_rates = 1 / np.power(10000, (2 * (i//2)) / np.float32(d_model))\n",
    "    return pos * angle_rates\n",
    "\n",
    "def positional_encoding(position, d_model):\n",
    "    angle_rads = get_angles(np.arange(position)[:, np.newaxis],\n",
    "                          np.arange(d_model)[np.newaxis, :],\n",
    "                          d_model)\n",
    "  \n",
    "  # apply sin to even indices in the array; 2i\n",
    "    sines = np.sin(angle_rads[:, 0::2])\n",
    "  # apply cos to odd indices in the array; 2i+1\n",
    "    cosines = np.cos(angle_rads[:, 1::2])\n",
    "    \n",
    "    pos_encoding = np.concatenate([sines, cosines], axis=-1)\n",
    "    pos_encoding = pos_encoding[np.newaxis, ...]\n",
    "    return tf.cast(pos_encoding, dtype=tf.float32)\n",
    "\n",
    "seq_len = 50\n",
    "d_model = 512\n",
    "\n",
    "pos_encoding = positional_encoding(seq_len, d_model)"
   ]
  },
  {
   "cell_type": "code",
   "execution_count": 143,
   "metadata": {},
   "outputs": [
    {
     "data": {
      "image/png": "[encoded data removed]",
      "text/plain": [
       "<Figure size 432x288 with 2 Axes>"
      ]
     },
     "metadata": {
      "needs_background": "light"
     },
     "output_type": "display_data"
    }
   ],
   "source": [
    "plt.pcolormesh(pos_encoding[0])\n",
    "plt.xlabel('d_model')\n",
    "plt.xlim((0, 512))\n",
    "plt.ylabel('Position')\n",
    "plt.colorbar()\n",
    "plt.show()"
   ]
  },
  {
   "cell_type": "code",
   "execution_count": 144,
   "metadata": {},
   "outputs": [],
   "source": [
    "## Encoder 本人\n",
    "class Encoder(tf.keras.layers.Layer):\n",
    "    def __init__(self, num_layers, d_model, num_heads, dff, input_vocab_size, rate=0.1):\n",
    "        super(Encoder, self).__init__()\n",
    "        self.d_model = d_model \n",
    "        self.embedding = tf.keras.layers.Embedding(input_vocab_size, d_model)\n",
    "        self.pos_encoding = positional_encoding(input_vocab_size, self.d_model)\n",
    "    \n",
    "        self.enc_layers = [EncoderLayer(d_model, num_heads, dff, rate) \n",
    "                       for _ in range(num_layers)]\n",
    "        ## num of layer\n",
    "\n",
    "        self.dropout = tf.keras.layers.Dropout(rate)\n",
    "        \n",
    "    def call(self, x, training, mask):\n",
    "        input_seq_len = tf.shape(x)[1]\n",
    "\n",
    "        x = self.embedding(x)\n",
    "        x *= tf.math.sqrt(tf.cast(self.d_model, tf.float32)) ## scaling\n",
    "        x += self.pos_encoding[:, :input_seq_len, :]\n",
    "        x = self.dropout(x, training=training)\n",
    "        \n",
    "        ## go thorough those layer\n",
    "        for i, enc_layer in enumerate(self.enc_layers):\n",
    "            x = enc_layer(x, training, mask)\n",
    "\n",
    "        return x \n"
   ]
  },
  {
   "cell_type": "code",
   "execution_count": 145,
   "metadata": {},
   "outputs": [],
   "source": [
    "class Decoder(tf.keras.layers.Layer):\n",
    "    def __init__(self, num_layers, d_model, num_heads, dff, target_vocab_size, rate=0.1):\n",
    "        super(Decoder, self).__init__()\n",
    "\n",
    "        self.d_model = d_model\n",
    "        self.embedding = tf.keras.layers.Embedding(target_vocab_size, d_model)\n",
    "        self.pos_encoding = positional_encoding(target_vocab_size, self.d_model)\n",
    "        self.dec_layers = [DecoderLayer(d_model, num_heads, dff, rate) \n",
    "                       for _ in range(num_layers)]\n",
    "        self.dropout = tf.keras.layers.Dropout(rate)\n",
    " \n",
    "    def call(self, x, enc_output, training, combined_mask, inp_padding_mask):\n",
    "        tar_seq_len = tf.shape(x)[1]\n",
    "        attention_weights = {}  ## storing each encoder weights for analyze\n",
    "    \n",
    "    ## same as encoder\n",
    "        x = self.embedding(x)\n",
    "        x *= tf.math.sqrt(tf.cast(self.d_model, tf.float32))\n",
    "        x += self.pos_encoding[:, :tar_seq_len, :]\n",
    "        x = self.dropout(x, training=training)\n",
    "\n",
    "        for i, dec_layer in enumerate(self.dec_layers):\n",
    "              x, block1, block2 = dec_layer(x, enc_output, training,combined_mask, inp_padding_mask)\n",
    "    \n",
    "              attention_weights['decoder_layer{}_block1'.format(i + 1)] = block1\n",
    "              attention_weights['decoder_layer{}_block2'.format(i + 1)] = block2\n",
    "\n",
    "        return x, attention_weights"
   ]
  },
  {
   "cell_type": "code",
   "execution_count": 146,
   "metadata": {},
   "outputs": [],
   "source": [
    "## Finally! we made it\n",
    "class Transformer(tf.keras.Model):\n",
    "    def __init__(self, num_layers, d_model, num_heads, dff, input_vocab_size, target_vocab_size, rate=0.1):\n",
    "        super(Transformer, self).__init__()\n",
    "\n",
    "        self.encoder = Encoder(num_layers, d_model, num_heads, dff, input_vocab_size, rate)\n",
    "        self.decoder = Decoder(num_layers, d_model, num_heads, dff, target_vocab_size, rate)\n",
    "        self.final_layer = tf.keras.layers.Dense(target_vocab_size)\n",
    "\n",
    "    def call(self, inp, tar, training, enc_padding_mask, combined_mask, dec_padding_mask):\n",
    "        \n",
    "        enc_output = self.encoder(inp, training, enc_padding_mask)\n",
    "\n",
    "        dec_output, attention_weights = self.decoder(tar, enc_output, training, combined_mask, dec_padding_mask)\n",
    "    \n",
    "        final_output = self.final_layer(dec_output) \n",
    "    \n",
    "        return final_output, attention_weights"
   ]
  },
  {
   "cell_type": "code",
   "execution_count": 147,
   "metadata": {},
   "outputs": [],
   "source": [
    "## try with our easy examples\n",
    "\n",
    "num_layers = 1\n",
    "d_model = 4\n",
    "num_heads = 2\n",
    "dff = 8\n",
    "\n",
    "input_vocab_size = subword_encoder_en.vocab_size + 2\n",
    "output_vocab_size = subword_encoder_zh.vocab_size + 2\n",
    "\n",
    "## train to predict next word! as we say in seq2seq train\n",
    "tar_inp = tar[:, :-1]\n",
    "tar_real = tar[:, 1:]\n",
    "\n",
    "inp_padding_mask = create_padding_mask(inp)\n",
    "tar_padding_mask = create_padding_mask(tar_inp)\n",
    "look_ahead_mask = create_look_ahead_mask(tar_inp.shape[1])\n",
    "## combine them jiust choosing value 1 in tensor\n",
    "combined_mask = tf.math.maximum(tar_padding_mask, look_ahead_mask)\n",
    "\n",
    "transformer = Transformer(num_layers, d_model, num_heads, dff, input_vocab_size, output_vocab_size)\n",
    "\n",
    "predictions, attn_weights = transformer(inp, tar_inp, False, inp_padding_mask, combined_mask, inp_padding_mask)\n"
   ]
  },
  {
   "cell_type": "code",
   "execution_count": 148,
   "metadata": {},
   "outputs": [
    {
     "name": "stdout",
     "output_type": "stream",
     "text": [
      "tf.Tensor(\n",
      "[[4205   65    6    7  223 2078 4206    0    0    0]\n",
      " [4205  165  489  398  191   14    7  560    3 4206]], shape=(2, 10), dtype=int64)\n",
      "tf.Tensor(\n",
      "[[4205   65    6    7  223 2078 4206    0    0]\n",
      " [4205  165  489  398  191   14    7  560    3]], shape=(2, 9), dtype=int64)\n",
      "tf.Tensor(\n",
      "[[  65    6    7  223 2078 4206    0    0    0]\n",
      " [ 165  489  398  191   14    7  560    3 4206]], shape=(2, 9), dtype=int64)\n",
      "\n",
      "(2, 9, 4207)\n"
     ]
    }
   ],
   "source": [
    "print(tar)\n",
    "print(tar_inp)\n",
    "print(tar_real)\n",
    "print()\n",
    "print(predictions.shape) ## batch, length, prob of next single word"
   ]
  },
  {
   "cell_type": "code",
   "execution_count": 149,
   "metadata": {},
   "outputs": [],
   "source": [
    "## what's our loss function???\n",
    "## just like classication problem\n",
    "\n",
    "loss_object = tf.keras.losses.SparseCategoricalCrossentropy(from_logits=True, reduction='none')"
   ]
  },
  {
   "cell_type": "code",
   "execution_count": 150,
   "metadata": {},
   "outputs": [],
   "source": [
    "## but our loss should not include\n",
    "def loss_function(real, pred):\n",
    "    ## inverse our mask\n",
    "    mask = tf.math.logical_not(tf.math.equal(real, 0))\n",
    "    loss_ = loss_object(real, pred)\n",
    "    mask = tf.cast(mask, dtype=loss_.dtype)\n",
    "    \n",
    "    ## multiply it! we done!\n",
    "    loss_ *= mask \n",
    "    return tf.reduce_mean(loss_)"
   ]
  },
  {
   "cell_type": "code",
   "execution_count": 151,
   "metadata": {},
   "outputs": [],
   "source": [
    "train_loss = tf.keras.metrics.Mean(name='train_loss')\n",
    "train_accuracy = tf.keras.metrics.SparseCategoricalAccuracy(name='train_accuracy')"
   ]
  },
  {
   "cell_type": "markdown",
   "metadata": {},
   "source": [
    "<img src=\"lr-equation.jpg\" width=\"70%\">"
   ]
  },
  {
   "cell_type": "code",
   "execution_count": 152,
   "metadata": {},
   "outputs": [],
   "source": [
    "## Our opt\n",
    "## inside warm up steps  up up up\n",
    "## outside smoothing decayed\n",
    "class CustomSchedule(tf.keras.optimizers.schedules.LearningRateSchedule):\n",
    "  # 論文預設 `warmup_steps` = 4000\n",
    "    def __init__(self, d_model, warmup_steps=4000):\n",
    "        super(CustomSchedule, self).__init__()\n",
    "    \n",
    "        self.d_model = d_model\n",
    "        self.d_model = tf.cast(self.d_model, tf.float32)\n",
    "\n",
    "        self.warmup_steps = warmup_steps\n",
    "    \n",
    "    def __call__(self, step):\n",
    "        arg1 = tf.math.rsqrt(step)\n",
    "        arg2 = step * (self.warmup_steps ** -1.5)\n",
    "    \n",
    "        return tf.math.rsqrt(self.d_model) * tf.math.minimum(arg1, arg2)\n"
   ]
  },
  {
   "cell_type": "code",
   "execution_count": 153,
   "metadata": {},
   "outputs": [],
   "source": [
    "learning_rate = CustomSchedule(d_model)\n",
    "optimizer = tf.keras.optimizers.Adam(learning_rate, beta_1=0.9, beta_2=0.98, epsilon=1e-9)"
   ]
  },
  {
   "cell_type": "markdown",
   "metadata": {},
   "source": [
    "## TRAIN!"
   ]
  },
  {
   "cell_type": "code",
   "execution_count": 154,
   "metadata": {},
   "outputs": [],
   "source": [
    "num_layers = 4 ## 先用 4 層,我電腦會爆掉\n",
    "d_model = 128\n",
    "num_heads = 8\n",
    "dff = 512\n",
    "\n",
    "input_vocab_size = subword_encoder_en.vocab_size + 2\n",
    "target_vocab_size = subword_encoder_zh.vocab_size + 2\n",
    "\n",
    "dropout_rate = 0.1\n",
    "\n",
    "transformer = Transformer(num_layers, d_model, num_heads, dff,input_vocab_size, target_vocab_size, dropout_rate)"
   ]
  },
  {
   "cell_type": "code",
   "execution_count": 155,
   "metadata": {},
   "outputs": [],
   "source": [
    "### all the mask create\n",
    "\n",
    "def create_masks(inp, tar):\n",
    "    enc_padding_mask = create_padding_mask(inp)\n",
    "    dec_padding_mask = create_padding_mask(inp)\n",
    "\n",
    "    look_ahead_mask = create_look_ahead_mask(tf.shape(tar)[1])\n",
    "    dec_target_padding_mask = create_padding_mask(tar)\n",
    "    combined_mask = tf.maximum(dec_target_padding_mask, look_ahead_mask)\n",
    "  \n",
    "    return enc_padding_mask, combined_mask, dec_padding_mask"
   ]
  },
  {
   "cell_type": "code",
   "execution_count": 163,
   "metadata": {},
   "outputs": [
    {
     "data": {
      "text/plain": [
       "'Trans/logs/4layers_128d_8heads_512dff_20train_perc/4layers_128d_8heads_512dff'"
      ]
     },
     "execution_count": 163,
     "metadata": {},
     "output_type": "execute_result"
    }
   ],
   "source": [
    "log_dir"
   ]
  },
  {
   "cell_type": "code",
   "execution_count": 167,
   "metadata": {},
   "outputs": [
    {
     "name": "stdout",
     "output_type": "stream",
     "text": [
      "train form scratch\n"
     ]
    }
   ],
   "source": [
    "## save cktpts\n",
    "train_perc = 20\n",
    "\n",
    "run_id = f\"{num_layers}layers_{d_model}d_{num_heads}heads_{dff}dff\"\n",
    "checkpoint_path = os.path.join(checkpoint_path, run_id)\n",
    "log_dir = os.path.join(log_dir, run_id)\n",
    "\n",
    "\n",
    "ckpt = tf.train.Checkpoint(transformer=transformer,optimizer=optimizer)\n",
    "\n",
    "## only save the 5 closest ckpt!\n",
    "ckpt_manager = tf.train.CheckpointManager(ckpt, checkpoint_path, max_to_keep=5)\n",
    "\n",
    "if ckpt_manager.latest_checkpoint: ## if ckpt exists, dont train\n",
    "    ckpt.restore(ckpt_manager.latest_checkpoint)\n",
    "    last_epoch = int(ckpt_manager.latest_checkpoint.split(\"-\")[-1])\n",
    "    print(f'latest checkpoin in {last_epoch} epochs')\n",
    "else:\n",
    "    last_epoch = 0\n",
    "    print(\"train form scratch\")"
   ]
  },
  {
   "cell_type": "code",
   "execution_count": 168,
   "metadata": {},
   "outputs": [],
   "source": [
    "\n",
    "### path is wrong\n",
    "ckpt = tf.train.Checkpoint(transformer=transformer,optimizer=optimizer)\n",
    "\n",
    "ckpt_manager = tf.train.CheckpointManager(ckpt, checkpoint_path, max_to_keep=5)\n",
    "\n",
    "if ckpt_manager.latest_checkpoint: ## if ckpt exists, dont train\n",
    "    ckpt.restore(ckpt_manager.latest_checkpoint)\n",
    "    last_epoch = int(ckpt_manager.latest_checkpoint.split(\"-\")[-1])\n",
    "    print(f'latest checkpoin in {last_epoch} epochs')"
   ]
  },
  {
   "cell_type": "code",
   "execution_count": 169,
   "metadata": {},
   "outputs": [],
   "source": [
    "@tf.function \n",
    "def train_step(inp, tar):\n",
    "\n",
    "    tar_inp = tar[:, :-1]\n",
    "    tar_real = tar[:, 1:]\n",
    "  \n",
    "    ## creating masks\n",
    "    enc_padding_mask, combined_mask, dec_padding_mask = create_masks(inp, tar_inp)\n",
    "  \n",
    "    with tf.GradientTape() as tape:\n",
    "        predictions, _ = transformer(inp, tar_inp, \n",
    "                                 True, \n",
    "                                 enc_padding_mask, \n",
    "                                 combined_mask, \n",
    "                                 dec_padding_mask)\n",
    "\n",
    "        loss = loss_function(tar_real, predictions)\n",
    "\n",
    " \n",
    "    gradients = tape.gradient(loss, transformer.trainable_variables)    \n",
    "    optimizer.apply_gradients(zip(gradients, transformer.trainable_variables))\n",
    "      "
   ]
  },
  {
   "cell_type": "code",
   "execution_count": 170,
   "metadata": {
    "scrolled": true
   },
   "outputs": [
    {
     "name": "stdout",
     "output_type": "stream",
     "text": [
      "already train 0 epochs。\n",
      "last epochs：-40\n",
      "Saving checkpoint for epoch 1 at ./Trans/checkpoints/1layers_4d_2heads_8dff_20train_perc/1layers_4d_2heads_8dff/4layers_128d_8heads_512dff/ckpt-1\n",
      "Saving checkpoint for epoch 2 at ./Trans/checkpoints/1layers_4d_2heads_8dff_20train_perc/1layers_4d_2heads_8dff/4layers_128d_8heads_512dff/ckpt-2\n",
      "Saving checkpoint for epoch 3 at ./Trans/checkpoints/1layers_4d_2heads_8dff_20train_perc/1layers_4d_2heads_8dff/4layers_128d_8heads_512dff/ckpt-3\n",
      "Saving checkpoint for epoch 4 at ./Trans/checkpoints/1layers_4d_2heads_8dff_20train_perc/1layers_4d_2heads_8dff/4layers_128d_8heads_512dff/ckpt-4\n",
      "Saving checkpoint for epoch 5 at ./Trans/checkpoints/1layers_4d_2heads_8dff_20train_perc/1layers_4d_2heads_8dff/4layers_128d_8heads_512dff/ckpt-5\n",
      "Saving checkpoint for epoch 6 at ./Trans/checkpoints/1layers_4d_2heads_8dff_20train_perc/1layers_4d_2heads_8dff/4layers_128d_8heads_512dff/ckpt-6\n",
      "Saving checkpoint for epoch 7 at ./Trans/checkpoints/1layers_4d_2heads_8dff_20train_perc/1layers_4d_2heads_8dff/4layers_128d_8heads_512dff/ckpt-7\n",
      "Saving checkpoint for epoch 8 at ./Trans/checkpoints/1layers_4d_2heads_8dff_20train_perc/1layers_4d_2heads_8dff/4layers_128d_8heads_512dff/ckpt-8\n",
      "Saving checkpoint for epoch 9 at ./Trans/checkpoints/1layers_4d_2heads_8dff_20train_perc/1layers_4d_2heads_8dff/4layers_128d_8heads_512dff/ckpt-9\n",
      "Saving checkpoint for epoch 10 at ./Trans/checkpoints/1layers_4d_2heads_8dff_20train_perc/1layers_4d_2heads_8dff/4layers_128d_8heads_512dff/ckpt-10\n",
      "Saving checkpoint for epoch 11 at ./Trans/checkpoints/1layers_4d_2heads_8dff_20train_perc/1layers_4d_2heads_8dff/4layers_128d_8heads_512dff/ckpt-11\n",
      "Saving checkpoint for epoch 12 at ./Trans/checkpoints/1layers_4d_2heads_8dff_20train_perc/1layers_4d_2heads_8dff/4layers_128d_8heads_512dff/ckpt-12\n",
      "Saving checkpoint for epoch 13 at ./Trans/checkpoints/1layers_4d_2heads_8dff_20train_perc/1layers_4d_2heads_8dff/4layers_128d_8heads_512dff/ckpt-13\n",
      "Saving checkpoint for epoch 14 at ./Trans/checkpoints/1layers_4d_2heads_8dff_20train_perc/1layers_4d_2heads_8dff/4layers_128d_8heads_512dff/ckpt-14\n",
      "Saving checkpoint for epoch 15 at ./Trans/checkpoints/1layers_4d_2heads_8dff_20train_perc/1layers_4d_2heads_8dff/4layers_128d_8heads_512dff/ckpt-15\n",
      "Saving checkpoint for epoch 16 at ./Trans/checkpoints/1layers_4d_2heads_8dff_20train_perc/1layers_4d_2heads_8dff/4layers_128d_8heads_512dff/ckpt-16\n",
      "Saving checkpoint for epoch 17 at ./Trans/checkpoints/1layers_4d_2heads_8dff_20train_perc/1layers_4d_2heads_8dff/4layers_128d_8heads_512dff/ckpt-17\n",
      "Saving checkpoint for epoch 18 at ./Trans/checkpoints/1layers_4d_2heads_8dff_20train_perc/1layers_4d_2heads_8dff/4layers_128d_8heads_512dff/ckpt-18\n",
      "Saving checkpoint for epoch 19 at ./Trans/checkpoints/1layers_4d_2heads_8dff_20train_perc/1layers_4d_2heads_8dff/4layers_128d_8heads_512dff/ckpt-19\n",
      "Saving checkpoint for epoch 20 at ./Trans/checkpoints/1layers_4d_2heads_8dff_20train_perc/1layers_4d_2heads_8dff/4layers_128d_8heads_512dff/ckpt-20\n",
      "Saving checkpoint for epoch 21 at ./Trans/checkpoints/1layers_4d_2heads_8dff_20train_perc/1layers_4d_2heads_8dff/4layers_128d_8heads_512dff/ckpt-21\n",
      "Saving checkpoint for epoch 22 at ./Trans/checkpoints/1layers_4d_2heads_8dff_20train_perc/1layers_4d_2heads_8dff/4layers_128d_8heads_512dff/ckpt-22\n",
      "Saving checkpoint for epoch 23 at ./Trans/checkpoints/1layers_4d_2heads_8dff_20train_perc/1layers_4d_2heads_8dff/4layers_128d_8heads_512dff/ckpt-23\n",
      "Saving checkpoint for epoch 24 at ./Trans/checkpoints/1layers_4d_2heads_8dff_20train_perc/1layers_4d_2heads_8dff/4layers_128d_8heads_512dff/ckpt-24\n",
      "Saving checkpoint for epoch 25 at ./Trans/checkpoints/1layers_4d_2heads_8dff_20train_perc/1layers_4d_2heads_8dff/4layers_128d_8heads_512dff/ckpt-25\n",
      "Saving checkpoint for epoch 26 at ./Trans/checkpoints/1layers_4d_2heads_8dff_20train_perc/1layers_4d_2heads_8dff/4layers_128d_8heads_512dff/ckpt-26\n",
      "Saving checkpoint for epoch 27 at ./Trans/checkpoints/1layers_4d_2heads_8dff_20train_perc/1layers_4d_2heads_8dff/4layers_128d_8heads_512dff/ckpt-27\n",
      "Saving checkpoint for epoch 28 at ./Trans/checkpoints/1layers_4d_2heads_8dff_20train_perc/1layers_4d_2heads_8dff/4layers_128d_8heads_512dff/ckpt-28\n",
      "Saving checkpoint for epoch 29 at ./Trans/checkpoints/1layers_4d_2heads_8dff_20train_perc/1layers_4d_2heads_8dff/4layers_128d_8heads_512dff/ckpt-29\n",
      "Saving checkpoint for epoch 30 at ./Trans/checkpoints/1layers_4d_2heads_8dff_20train_perc/1layers_4d_2heads_8dff/4layers_128d_8heads_512dff/ckpt-30\n",
      "Saving checkpoint for epoch 31 at ./Trans/checkpoints/1layers_4d_2heads_8dff_20train_perc/1layers_4d_2heads_8dff/4layers_128d_8heads_512dff/ckpt-31\n",
      "Saving checkpoint for epoch 32 at ./Trans/checkpoints/1layers_4d_2heads_8dff_20train_perc/1layers_4d_2heads_8dff/4layers_128d_8heads_512dff/ckpt-32\n",
      "Saving checkpoint for epoch 33 at ./Trans/checkpoints/1layers_4d_2heads_8dff_20train_perc/1layers_4d_2heads_8dff/4layers_128d_8heads_512dff/ckpt-33\n",
      "Saving checkpoint for epoch 34 at ./Trans/checkpoints/1layers_4d_2heads_8dff_20train_perc/1layers_4d_2heads_8dff/4layers_128d_8heads_512dff/ckpt-34\n",
      "Saving checkpoint for epoch 35 at ./Trans/checkpoints/1layers_4d_2heads_8dff_20train_perc/1layers_4d_2heads_8dff/4layers_128d_8heads_512dff/ckpt-35\n",
      "Saving checkpoint for epoch 36 at ./Trans/checkpoints/1layers_4d_2heads_8dff_20train_perc/1layers_4d_2heads_8dff/4layers_128d_8heads_512dff/ckpt-36\n",
      "Saving checkpoint for epoch 37 at ./Trans/checkpoints/1layers_4d_2heads_8dff_20train_perc/1layers_4d_2heads_8dff/4layers_128d_8heads_512dff/ckpt-37\n",
      "Saving checkpoint for epoch 38 at ./Trans/checkpoints/1layers_4d_2heads_8dff_20train_perc/1layers_4d_2heads_8dff/4layers_128d_8heads_512dff/ckpt-38\n",
      "Saving checkpoint for epoch 39 at ./Trans/checkpoints/1layers_4d_2heads_8dff_20train_perc/1layers_4d_2heads_8dff/4layers_128d_8heads_512dff/ckpt-39\n",
      "Saving checkpoint for epoch 40 at ./Trans/checkpoints/1layers_4d_2heads_8dff_20train_perc/1layers_4d_2heads_8dff/4layers_128d_8heads_512dff/ckpt-40\n"
     ]
    }
   ],
   "source": [
    "EPOCHS = 40\n",
    "print(f\"already train {last_epoch} epochs。\")\n",
    "print(f\"last epochs：{min(0, last_epoch - EPOCHS)}\")\n",
    "\n",
    "for epoch in range(last_epoch, EPOCHS):\n",
    "    start = time.time()\n",
    "  \n",
    "    for (step_idx, (inp, tar)) in enumerate(train_dataset):\n",
    "        train_step(inp, tar)  \n",
    "\n",
    "    if (epoch + 1) % 1 == 0:\n",
    "        ckpt_save_path = ckpt_manager.save()\n",
    "        print ('Saving checkpoint for epoch {} at {}'.format(epoch+1,\n",
    "                                                         ckpt_save_path))"
   ]
  },
  {
   "cell_type": "code",
   "execution_count": 171,
   "metadata": {},
   "outputs": [],
   "source": [
    "def evaluate(inp_sentence):\n",
    "    start_token = [subword_encoder_en.vocab_size]\n",
    "    end_token = [subword_encoder_en.vocab_size + 1]\n",
    "  \n",
    "    inp_sentence = start_token + subword_encoder_en.encode(inp_sentence) + end_token\n",
    "    encoder_input = tf.expand_dims(inp_sentence, 0)\n",
    "  \n",
    "\n",
    "    decoder_input = [subword_encoder_zh.vocab_size]\n",
    "    output = tf.expand_dims(decoder_input, 0)  ## for batch dim\n",
    "  \n",
    "\n",
    "    for i in range(MAX_LENGTH):\n",
    "        enc_padding_mask, combined_mask, dec_padding_mask = create_masks(encoder_input, output)\n",
    "  \n",
    "    ## predictions.shape == (batch_size, seq_len, vocab_size)\n",
    "        predictions, attention_weights = transformer(encoder_input, \n",
    "                                                 output,\n",
    "                                                 False,\n",
    "                                                 enc_padding_mask,\n",
    "                                                 combined_mask,\n",
    "                                                 dec_padding_mask)\n",
    "    \n",
    "        predictions = predictions[: , -1:, :]  \n",
    "        predicted_id = tf.cast(tf.argmax(predictions, axis=-1), tf.int32)\n",
    "    \n",
    "\n",
    "        if tf.equal(predicted_id, subword_encoder_zh.vocab_size + 1):\n",
    "            return tf.squeeze(output, axis=0), attention_weights\n",
    "        ## adding the last step output\n",
    "        output = tf.concat([output, predicted_id], axis=-1)\n",
    "\n",
    "  \n",
    "    return tf.squeeze(output, axis=0), attention_weights"
   ]
  },
  {
   "cell_type": "code",
   "execution_count": 293,
   "metadata": {},
   "outputs": [],
   "source": [
    "sentence = \"China, India, and others have enjoyed continuing economic growth.\"\n",
    "\n",
    "predicted_seq, _ = evaluate(sentence)\n",
    "\n",
    "target_vocab_size = subword_encoder_zh.vocab_size\n",
    "predicted_seq_without_bos_eos = [idx for idx in predicted_seq if idx < target_vocab_size]\n",
    "predicted_sentence = subword_encoder_zh.decode(predicted_seq_without_bos_eos)"
   ]
  },
  {
   "cell_type": "code",
   "execution_count": 294,
   "metadata": {},
   "outputs": [
    {
     "name": "stdout",
     "output_type": "stream",
     "text": [
      "印度和中国也是其他国家中国家中的经济增长。\n"
     ]
    }
   ],
   "source": [
    "print(predicted_sentence)"
   ]
  },
  {
   "cell_type": "code",
   "execution_count": null,
   "metadata": {},
   "outputs": [],
   "source": [
    "\n"
   ]
  },
  {
   "cell_type": "code",
   "execution_count": null,
   "metadata": {},
   "outputs": [],
   "source": []
  },
  {
   "cell_type": "code",
   "execution_count": null,
   "metadata": {},
   "outputs": [],
   "source": []
  },
  {
   "cell_type": "code",
   "execution_count": null,
   "metadata": {},
   "outputs": [],
   "source": []
  }
 ],
 "metadata": {
  "kernelspec": {
   "display_name": "Python 3",
   "language": "python",
   "name": "python3"
  },
  "language_info": {
   "codemirror_mode": {
    "name": "ipython",
    "version": 3
   },
   "file_extension": ".py",
   "mimetype": "text/x-python",
   "name": "python",
   "nbconvert_exporter": "python",
   "pygments_lexer": "ipython3",
   "version": "3.7.6"
  }
 },
 "nbformat": 4,
 "nbformat_minor": 4
}
